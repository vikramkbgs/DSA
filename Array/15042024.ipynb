{
 "cells": [
  {
   "cell_type": "code",
   "execution_count": 1,
   "metadata": {},
   "outputs": [],
   "source": [
    "#### Practice Session 15-04-2024"
   ]
  },
  {
   "cell_type": "markdown",
   "metadata": {},
   "source": [
    "```java\n",
    "public class Solution {\n",
    "\tpublic static boolean solveMaze(int maze[][], int i, int j, int path[][]){\n",
    "\t\tint n = maze.length;\n",
    "\t\t//check if i, j, cell is valid or not\n",
    "\t\tif(i < 0 || i >= n|| j<0||j>=n||maze[i][j] == 0||path[i][j] == 1){\n",
    "\t\t\treturn false;\n",
    "\t\t}\n",
    "\t\t// include the cell in current path\n",
    "\t\tpath [i][j] = 1;\n",
    "\t\t// Destination cell\n",
    "\t\tif(i == n -1&& j == n-1){\n",
    "\t\t\tpath[i][j] = 0;\n",
    "\t\t\treturn true;\n",
    "\t\t}\n",
    "\t\t// explore further in all directions\n",
    "\t\tboolean pathPossible = false;\n",
    "\n",
    "\t\t//top\n",
    "\t\tif(solveMaze(maze, i-1, j, path)){\n",
    "\t\t\tpathPossible = true;\n",
    "\t\t}\n",
    "\t\t//right\n",
    "\t\telse if(solveMaze(maze, i, j+1, path)){\n",
    "\t\t\tpathPossible = true;\n",
    "\t\t}\n",
    "\t\t// down\n",
    "\t\telse if(solveMaze(maze,i+1, j, path)){\n",
    "\t\t\tpathPossible = true;\n",
    "\t\t}\n",
    "\t\t// left\n",
    "\t\telse if(solveMaze(maze, i, j-1, path)){\n",
    "\t\t\tpathPossible = true;\n",
    "\t\t}\n",
    "\t\treturn pathPossible;\n",
    "\t}\n",
    "\tpublic static boolean ratInAMaze(int maze[][]){\n",
    "\tint n = maze.length;\n",
    "\tint path[][] = new int[n][n];\n",
    "\treturn solveMaze(maze, 0, 0, path);\n",
    "\t}\n",
    "}\n"
   ]
  },
  {
   "cell_type": "markdown",
   "metadata": {},
   "source": [
    "```java \n",
    "public class Solution{\n",
    "    public static boolean solveMaze(int maze[][], int i, int j, int path[][]){\n",
    "        int lenght = maze.length;\n",
    "        if\n",
    "    }\n",
    "}"
   ]
  },
  {
   "cell_type": "code",
   "execution_count": null,
   "metadata": {},
   "outputs": [],
   "source": []
  }
 ],
 "metadata": {
  "kernelspec": {
   "display_name": "Python 3",
   "language": "python",
   "name": "python3"
  },
  "language_info": {
   "codemirror_mode": {
    "name": "ipython",
    "version": 3
   },
   "file_extension": ".py",
   "mimetype": "text/x-python",
   "name": "python",
   "nbconvert_exporter": "python",
   "pygments_lexer": "ipython3",
   "version": "3.7.5"
  }
 },
 "nbformat": 4,
 "nbformat_minor": 2
}
